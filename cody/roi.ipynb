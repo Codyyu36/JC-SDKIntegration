{
 "cells": [
  {
   "cell_type": "code",
   "execution_count": 18,
   "metadata": {},
   "outputs": [],
   "source": [
    "import cv2\n",
    "import numpy as np\n",
    "import os\n",
    "import matplotlib.pyplot as plt\n",
    "import pandas as pd\n",
    "from white_demura import sum_contour, read_and_extract_roi, apply_mask, get_signal_mapping, generate_mapping, extract_middle_roi\n",
    "import skimage.measure\n",
    "\n"
   ]
  },
  {
   "cell_type": "code",
   "execution_count": 31,
   "metadata": {},
   "outputs": [],
   "source": [
    "clear_image_4 = read_and_extract_roi('/Users/codyyu/Desktop/leakage_data_WHITE_TEST/new_data/4_4_4_clear_200000000.bmp', -500, 900)\n",
    "clear_image_8 = read_and_extract_roi('/Users/codyyu/Desktop/leakage_data_WHITE_TEST/new_data/8_8_8_clear_70000000.bmp', -500, 900)\n",
    "clear_image_16 = read_and_extract_roi('/Users/codyyu/Desktop/leakage_data_WHITE_TEST/new_data/16_16_16_clear_16000000.bmp', -500, 900)\n",
    "clear_image_32 = read_and_extract_roi('/Users/codyyu/Desktop/leakage_data_WHITE_TEST/new_data/32_32_32_clear_4000000.bmp', -500, 900)\n",
    "clear_image_64 = read_and_extract_roi('/Users/codyyu/Desktop/leakage_data_WHITE_TEST/new_data/64_64_64_clear_700000.bmp', -500, 900)\n",
    "clear_image_128 = read_and_extract_roi('/Users/codyyu/Desktop/leakage_data_WHITE_TEST/new_data/128_128_128_clear_180000.bmp', -500, 900)\n",
    "clear_image_255 = read_and_extract_roi('/Users/codyyu/Desktop/leakage_data_WHITE_TEST/new_data/255_255_255_clear_30000.bmp', -500, 900)"
   ]
  },
  {
   "cell_type": "code",
   "execution_count": 47,
   "metadata": {},
   "outputs": [
    {
     "data": {
      "text/plain": [
       "(4512, 1500)"
      ]
     },
     "execution_count": 47,
     "metadata": {},
     "output_type": "execute_result"
    }
   ],
   "source": [
    "row_x_4 = np.concatenate((clear_image_255,clear_image_255, clear_image_255, clear_image_255), axis=0)\n",
    "row_x_4.shape"
   ]
  },
  {
   "cell_type": "code",
   "execution_count": 49,
   "metadata": {},
   "outputs": [
    {
     "data": {
      "text/plain": [
       "(4512, 6000)"
      ]
     },
     "execution_count": 49,
     "metadata": {},
     "output_type": "execute_result"
    }
   ],
   "source": [
    "sixteen = np.concatenate((row_x_4,row_x_4, row_x_4, row_x_4), axis=1)\n",
    "sixteen.shape"
   ]
  },
  {
   "cell_type": "code",
   "execution_count": null,
   "metadata": {},
   "outputs": [],
   "source": [
    "cv2."
   ]
  },
  {
   "cell_type": "code",
   "execution_count": 32,
   "metadata": {},
   "outputs": [],
   "source": [
    "red_image_4 = read_and_extract_roi('/Users/codyyu/Desktop/leakage_data_WHITE_TEST/new_data/4_4_4_X_200000000.bmp', -500, 900)\n",
    "red_image_8 = read_and_extract_roi('/Users/codyyu/Desktop/leakage_data_WHITE_TEST/new_data/8_8_8_X_70000000.bmp', -500, 900)\n",
    "red_image_16 = read_and_extract_roi('/Users/codyyu/Desktop/leakage_data_WHITE_TEST/new_data/16_16_16_X_16000000.bmp', -500, 900)\n",
    "red_image_32 = read_and_extract_roi('/Users/codyyu/Desktop/leakage_data_WHITE_TEST/new_data/32_32_32_X_5000000.bmp', -500, 900)\n",
    "red_image_64 = read_and_extract_roi('/Users/codyyu/Desktop/leakage_data_WHITE_TEST/new_data/64_64_64_X_850000.bmp', -500, 900)\n",
    "red_image_128 = read_and_extract_roi('/Users/codyyu/Desktop/leakage_data_WHITE_TEST/new_data/128_128_128_X_180000.bmp', -500, 900)\n",
    "red_image_255 = read_and_extract_roi('/Users/codyyu/Desktop/leakage_data_WHITE_TEST/new_data/255_255_255_X_30000.bmp', -500, 900)"
   ]
  },
  {
   "cell_type": "code",
   "execution_count": 33,
   "metadata": {},
   "outputs": [],
   "source": [
    "green_image_4 = read_and_extract_roi('/Users/codyyu/Desktop/leakage_data_WHITE_TEST/new_data/4_4_4_Y_200000000.bmp', -500, 900)\n",
    "green_image_8 = read_and_extract_roi('/Users/codyyu/Desktop/leakage_data_WHITE_TEST/new_data/8_8_8_Y_40000000.bmp', -500, 900)\n",
    "green_image_16 = read_and_extract_roi('/Users/codyyu/Desktop/leakage_data_WHITE_TEST/new_data/16_16_16_Y_12500000.bmp', -500, 900)\n",
    "green_image_32 = read_and_extract_roi('/Users/codyyu/Desktop/leakage_data_WHITE_TEST/new_data/32_32_32_Y_3000000.bmp', -500, 900)\n",
    "green_image_64 = read_and_extract_roi('/Users/codyyu/Desktop/leakage_data_WHITE_TEST/new_data/64_64_64_Y_650000.bmp', -500, 900)\n",
    "green_image_128 = read_and_extract_roi('/Users/codyyu/Desktop/leakage_data_WHITE_TEST/new_data/128_128_128_Y_130000.bmp', -500, 900)\n",
    "green_image_255 = read_and_extract_roi('/Users/codyyu/Desktop/leakage_data_WHITE_TEST/new_data/255_255_255_Y_25000.bmp', -500, 900)"
   ]
  },
  {
   "cell_type": "code",
   "execution_count": 34,
   "metadata": {},
   "outputs": [],
   "source": [
    "blue_image_4 = read_and_extract_roi('/Users/codyyu/Desktop/leakage_data_WHITE_TEST/new_data/4_4_4_Z_300000000.bmp', -500, 900)\n",
    "blue_image_8 = read_and_extract_roi('/Users/codyyu/Desktop/leakage_data_WHITE_TEST/new_data/8_8_8_Z_110000000.bmp', -500, 900)\n",
    "blue_image_16 = read_and_extract_roi('/Users/codyyu/Desktop/leakage_data_WHITE_TEST/new_data/16_16_16_Z_21000000.bmp', -500, 900)\n",
    "blue_image_32 = read_and_extract_roi('/Users/codyyu/Desktop/leakage_data_WHITE_TEST/new_data/32_32_32_Z_6500000.bmp', -500, 900)\n",
    "blue_image_64 = read_and_extract_roi('/Users/codyyu/Desktop/leakage_data_WHITE_TEST/new_data/64_64_64_Z_1100000.bmp', -500, 900)\n",
    "blue_image_128 = read_and_extract_roi('/Users/codyyu/Desktop/leakage_data_WHITE_TEST/new_data/128_128_128_Z_200000.bmp', -500, 900)\n",
    "blue_image_255 = read_and_extract_roi('/Users/codyyu/Desktop/leakage_data_WHITE_TEST/new_data/255_255_255_Z_40000.bmp', -500, 900)"
   ]
  },
  {
   "cell_type": "code",
   "execution_count": 39,
   "metadata": {},
   "outputs": [],
   "source": [
    "def down_sample(output_path, image):\n",
    "    new_image = skimage.measure.block_reduce(image, (7, 7), np.mean)\n",
    "    new_image.astype('uint8')\n",
    "    cv2.imwrite(output_path, new_image)\n"
   ]
  },
  {
   "cell_type": "code",
   "execution_count": 40,
   "metadata": {},
   "outputs": [],
   "source": [
    "down_sample('/Users/codyyu/Desktop/leakage_data_WHITE_TEST/new_data/down_sampled/4_4_4_clear_200000000_5x5_conv.bmp', clear_image_4)\n",
    "down_sample('/Users/codyyu/Desktop/leakage_data_WHITE_TEST/new_data/down_sampled/8_8_8_clear_70000000_5x5_conv.bmp', clear_image_8)\n",
    "down_sample('/Users/codyyu/Desktop/leakage_data_WHITE_TEST/new_data/down_sampled/16_16_16_clear_16000000_5x5_conv.bmp', clear_image_16) \n",
    "down_sample('/Users/codyyu/Desktop/leakage_data_WHITE_TEST/new_data/down_sampled/32_32_32_clear_4000000_5x5_conv.bmp', clear_image_32)\n",
    "down_sample('/Users/codyyu/Desktop/leakage_data_WHITE_TEST/new_data/down_sampled/64_64_64_clear_700000_5x5_conv.bmp', clear_image_64)\n",
    "down_sample('/Users/codyyu/Desktop/leakage_data_WHITE_TEST/new_data/down_sampled/128_128_128_clear_180000_5x5_conv.bmp', clear_image_128)\n",
    "down_sample('/Users/codyyu/Desktop/leakage_data_WHITE_TEST/new_data/down_sampled/255_255_255_clear_30000_5x5_conv.bmp', clear_image_255)\n",
    "\n",
    "down_sample('/Users/codyyu/Desktop/leakage_data_WHITE_TEST/new_data/down_sampled/4_4_4_X_200000000_5x5_conv.bmp', red_image_4)\n",
    "down_sample('/Users/codyyu/Desktop/leakage_data_WHITE_TEST/new_data/down_sampled/8_8_8_X_70000000_5x5_conv.bmp', red_image_8)\n",
    "down_sample('/Users/codyyu/Desktop/leakage_data_WHITE_TEST/new_data/down_sampled/16_16_16_X_16000000_5x5_conv.bmp', red_image_16)\n",
    "down_sample('/Users/codyyu/Desktop/leakage_data_WHITE_TEST/new_data/down_sampled/32_32_32_X_5000000_5x5_conv.bmp', red_image_32)\n",
    "down_sample('/Users/codyyu/Desktop/leakage_data_WHITE_TEST/new_data/down_sampled/64_64_64_X_850000_5x5_conv.bmp', red_image_64)\n",
    "down_sample('/Users/codyyu/Desktop/leakage_data_WHITE_TEST/new_data/down_sampled/128_128_128_X_180000_5x5_conv.bmp', red_image_128)\n",
    "down_sample('/Users/codyyu/Desktop/leakage_data_WHITE_TEST/new_data/down_sampled/255_255_255_X_30000_5x5_conv.bmp', red_image_255)\n",
    "\n",
    "down_sample('/Users/codyyu/Desktop/leakage_data_WHITE_TEST/new_data/down_sampled/4_4_4_Y_200000000_5x5_conv.bmp', green_image_4)\n",
    "down_sample('/Users/codyyu/Desktop/leakage_data_WHITE_TEST/new_data/down_sampled/8_8_8_Y_40000000_5x5_conv.bmp', green_image_8)\n",
    "down_sample('/Users/codyyu/Desktop/leakage_data_WHITE_TEST/new_data/down_sampled/16_16_16_Y_12500000_5x5_conv.bmp', green_image_16)\n",
    "down_sample('/Users/codyyu/Desktop/leakage_data_WHITE_TEST/new_data/down_sampled/32_32_32_Y_3000000_5x5_conv.bmp', green_image_32)\n",
    "down_sample('/Users/codyyu/Desktop/leakage_data_WHITE_TEST/new_data/down_sampled/64_64_64_Y_650000_5x5_conv.bmp', green_image_64)\n",
    "down_sample('/Users/codyyu/Desktop/leakage_data_WHITE_TEST/new_data/down_sampled/128_128_128_Y_130000_5x5_conv.bmp', green_image_128)\n",
    "down_sample('/Users/codyyu/Desktop/leakage_data_WHITE_TEST/new_data/down_sampled/255_255_255_Y_25000_5x5_conv.bmp', green_image_255)\n",
    "\n",
    "down_sample('/Users/codyyu/Desktop/leakage_data_WHITE_TEST/new_data/down_sampled/4_4_4_Z_300000000_5x5_conv.bmp', blue_image_4)\n",
    "down_sample('/Users/codyyu/Desktop/leakage_data_WHITE_TEST/new_data/down_sampled/8_8_8_Z_110000000_5x5_conv.bmp', blue_image_8)\n",
    "down_sample('/Users/codyyu/Desktop/leakage_data_WHITE_TEST/new_data/down_sampled/16_16_16_Z_21000000_5x5_conv.bmp', blue_image_16)\n",
    "down_sample('/Users/codyyu/Desktop/leakage_data_WHITE_TEST/new_data/down_sampled/32_32_32_Z_6500000_5x5_conv.bmp', blue_image_32)\n",
    "down_sample('/Users/codyyu/Desktop/leakage_data_WHITE_TEST/new_data/down_sampled/64_64_64_Z_1100000_5x5_conv.bmp', blue_image_64)\n",
    "down_sample('/Users/codyyu/Desktop/leakage_data_WHITE_TEST/new_data/down_sampled/128_128_128_Z_200000_5x5_conv.bmp', blue_image_128)\n",
    "down_sample('/Users/codyyu/Desktop/leakage_data_WHITE_TEST/new_data/down_sampled/255_255_255_Z_40000_5x5_conv.bmp', blue_image_255)"
   ]
  },
  {
   "cell_type": "code",
   "execution_count": null,
   "metadata": {},
   "outputs": [],
   "source": [
    "new_image = skimage.measure.block_reduce(clear_image_4, (5, 5), np.mean)\n"
   ]
  },
  {
   "cell_type": "code",
   "execution_count": 17,
   "metadata": {},
   "outputs": [
    {
     "data": {
      "text/plain": [
       "True"
      ]
     },
     "execution_count": 17,
     "metadata": {},
     "output_type": "execute_result"
    }
   ],
   "source": [
    "cv2.imwrite('/Users/codyyu/Desktop/test.png', clear_image_4)"
   ]
  },
  {
   "cell_type": "code",
   "execution_count": 20,
   "metadata": {},
   "outputs": [
    {
     "data": {
      "text/plain": [
       "(1128, 1500)"
      ]
     },
     "execution_count": 20,
     "metadata": {},
     "output_type": "execute_result"
    }
   ],
   "source": [
    "clear_image_4.shape"
   ]
  },
  {
   "cell_type": "code",
   "execution_count": 24,
   "metadata": {},
   "outputs": [
    {
     "data": {
      "text/plain": [
       "dtype('uint8')"
      ]
     },
     "execution_count": 24,
     "metadata": {},
     "output_type": "execute_result"
    }
   ],
   "source": [
    "clear_image_4.dtype"
   ]
  },
  {
   "cell_type": "code",
   "execution_count": 25,
   "metadata": {},
   "outputs": [],
   "source": [
    "new_image = skimage.measure.block_reduce(clear_image_4, (5, 5), np.mean)\n"
   ]
  },
  {
   "cell_type": "code",
   "execution_count": 26,
   "metadata": {},
   "outputs": [
    {
     "data": {
      "text/plain": [
       "dtype('float64')"
      ]
     },
     "execution_count": 26,
     "metadata": {},
     "output_type": "execute_result"
    }
   ],
   "source": [
    "new_image.dtype"
   ]
  },
  {
   "cell_type": "code",
   "execution_count": 27,
   "metadata": {},
   "outputs": [
    {
     "data": {
      "text/plain": [
       "array([[ 18, 207,  67, ...,  11,   8,  43],\n",
       "       [ 12, 104,  36, ...,  96,  11,  11],\n",
       "       [  9,   9,  11, ..., 164,  16,  26],\n",
       "       ...,\n",
       "       [199, 106,   9, ..., 170, 172, 106],\n",
       "       [ 62,  28,  15, ...,  10,  10,   8],\n",
       "       [  5,   4,  29, ...,  19,   9,  27]], dtype=uint8)"
      ]
     },
     "execution_count": 27,
     "metadata": {},
     "output_type": "execute_result"
    }
   ],
   "source": [
    "new_image.astype('uint8')"
   ]
  },
  {
   "cell_type": "code",
   "execution_count": 28,
   "metadata": {},
   "outputs": [
    {
     "data": {
      "text/plain": [
       "(226, 300)"
      ]
     },
     "execution_count": 28,
     "metadata": {},
     "output_type": "execute_result"
    }
   ],
   "source": [
    "new_image.shape"
   ]
  },
  {
   "cell_type": "code",
   "execution_count": 30,
   "metadata": {},
   "outputs": [
    {
     "data": {
      "text/plain": [
       "True"
      ]
     },
     "execution_count": 30,
     "metadata": {},
     "output_type": "execute_result"
    }
   ],
   "source": [
    "cv2.imwrite('/Users/codyyu/Desktop/test_1.png', new_image)"
   ]
  },
  {
   "cell_type": "code",
   "execution_count": null,
   "metadata": {},
   "outputs": [],
   "source": []
  }
 ],
 "metadata": {
  "kernelspec": {
   "display_name": "base",
   "language": "python",
   "name": "python3"
  },
  "language_info": {
   "codemirror_mode": {
    "name": "ipython",
    "version": 3
   },
   "file_extension": ".py",
   "mimetype": "text/x-python",
   "name": "python",
   "nbconvert_exporter": "python",
   "pygments_lexer": "ipython3",
   "version": "3.9.7"
  },
  "orig_nbformat": 4
 },
 "nbformat": 4,
 "nbformat_minor": 2
}
