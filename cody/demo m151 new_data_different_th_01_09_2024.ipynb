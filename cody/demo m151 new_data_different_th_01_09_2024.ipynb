{
 "cells": [
  {
   "cell_type": "code",
   "execution_count": 1,
   "metadata": {},
   "outputs": [],
   "source": [
    "import cv2\n",
    "import numpy as np\n",
    "import os\n",
    "import matplotlib.pyplot as plt\n",
    "import pandas as pd\n",
    "from white_demura import mean_pooling, run_dfs, run_dfs_green, reconstruct_mask, RGB_mask_no_roi, RGB_mask, sum_contour, read_and_extract_roi, apply_mask, get_signal_mapping, generate_mapping, extract_middle_roi\n"
   ]
  },
  {
   "cell_type": "code",
   "execution_count": 2,
   "metadata": {},
   "outputs": [],
   "source": [
    "from read_images import generate_RGB_dataframes"
   ]
  },
  {
   "cell_type": "code",
   "execution_count": 3,
   "metadata": {},
   "outputs": [],
   "source": [
    "output_path_root = '/Users/codyyu/Desktop/0109/output/'"
   ]
  },
  {
   "cell_type": "code",
   "execution_count": 4,
   "metadata": {},
   "outputs": [],
   "source": [
    "thresholds = [5, 7, 10, 12, 15]"
   ]
  },
  {
   "cell_type": "code",
   "execution_count": 5,
   "metadata": {},
   "outputs": [],
   "source": [
    "red_image_path = '/Users/codyyu/Desktop/monoCapture/3_8/rCapMap3.8.tif'\n",
    "green_image_path = '/Users/codyyu/Desktop/monoCapture/3_8/gCapMap3.8.tif'\n",
    "blue_image_path = '/Users/codyyu/Desktop/monoCapture/3_8/bCapMap3.8.tif'\n",
    "clear_image_path = '/Users/codyyu/Desktop/monoCapture/3_8/wCapMap3.8.tif'\n",
    "\n"
   ]
  },
  {
   "cell_type": "code",
   "execution_count": 7,
   "metadata": {},
   "outputs": [],
   "source": [
    "def run(th, output_path):\n",
    "    red_image_255 = cv2.imread(red_image_path, cv2.IMREAD_GRAYSCALE) \n",
    "    green_image_255 = cv2.imread(green_image_path, cv2.IMREAD_GRAYSCALE) \n",
    "    blue_image_255 = cv2.imread(blue_image_path, cv2.IMREAD_GRAYSCALE) \n",
    "    clear_image_255 = cv2.imread(clear_image_path, cv2.IMREAD_GRAYSCALE) \n",
    "\n",
    "    red_binary = np.where(red_image_255 > th, 1, 0)\n",
    "    green_binary = np.where(green_image_255 > th, 1, 0)\n",
    "    blue_binary = np.where(blue_image_255 > th, 1, 0)\n",
    "\n",
    "\n",
    "    rg_ol = red_binary * green_binary\n",
    "    rb_ol = red_binary * blue_binary\n",
    "    gb_ol = green_binary * blue_binary\n",
    "    rgb_ol = red_binary * green_binary * blue_binary\n",
    "\n",
    "    red_image_255 = red_image_255.astype('float64')\n",
    "    green_image_255 = green_image_255.astype('float64')\n",
    "    blue_image_255 = blue_image_255.astype('float64')\n",
    "\n",
    "\n",
    "\n",
    "    red_binary = red_binary.astype('float64')\n",
    "    green_binary = green_binary.astype('float64')\n",
    "    blue_binary = blue_binary.astype('float64')\n",
    "\n",
    "\n",
    "\n",
    "    for i in (range(len(red_binary))):\n",
    "        for j in (range(len(red_binary[0]))):\n",
    "            if rg_ol[i][j] == 1 or rb_ol[i][j] == 1:\n",
    "                sum = 0.0\n",
    "                sum = red_image_255[i][j] + green_image_255[i][j] + blue_image_255[i][j]\n",
    "                if sum != 0:\n",
    "                    red_binary[i][j] = red_image_255[i][j] / sum\n",
    "                #print(red_image_255[i][j], sum, red_image_255[i][j] / sum)\n",
    "\n",
    "\n",
    "    for i in (range(len(green_binary))):\n",
    "        for j in (range(len(green_binary[0]))):\n",
    "            if rg_ol[i][j] == 1 or gb_ol[i][j] == 1:\n",
    "                sum = 0.0\n",
    "                sum = red_image_255[i][j] + green_image_255[i][j] + blue_image_255[i][j]\n",
    "                if sum != 0:\n",
    "                    green_binary[i][j] = green_image_255[i][j] / sum\n",
    "\n",
    "\n",
    "\n",
    "    for i in (range(len(blue_binary))):\n",
    "        for j in (range(len(blue_binary[0]))):\n",
    "            if gb_ol[i][j] == 1 or rb_ol[i][j] == 1:\n",
    "                sum = 0.0\n",
    "                sum = red_image_255[i][j] + green_image_255[i][j] + blue_image_255[i][j]\n",
    "                if sum != 0:\n",
    "                    blue_binary[i][j] = blue_image_255[i][j] / sum\n",
    "\n",
    "\n",
    "\n",
    "    red_filtered = np.where(red_image_255 > th, 1, 0) * red_image_255\n",
    "    green_filtered = np.where(green_image_255 > th, 1, 0) * green_image_255\n",
    "    blue_filtered = np.where(blue_image_255 > th, 1, 0) * blue_image_255\n",
    "    \n",
    "\n",
    "\n",
    "\n",
    "    cv2.imwrite(output_path + 'red_filtered.png', red_filtered)\n",
    "    cv2.imwrite(output_path + 'green_filtered.png', green_filtered)\n",
    "    cv2.imwrite(output_path + 'blue_filtered.png', blue_filtered)\n",
    "\n",
    "\n",
    "\n",
    "    red_mask_filtered_ol = (red_binary * clear_image_255.astype('float64')).astype('uint8')\n",
    "    green_mask_filtered_ol = (green_binary * clear_image_255.astype('float64')).astype('uint8')\n",
    "    blue_mask_filtered_ol = (blue_binary * clear_image_255.astype('float64')).astype('uint8')\n",
    "\n",
    "\n",
    "    cv2.imwrite(output_path + 'red_mask_filtered.png', red_mask_filtered_ol)\n",
    "    cv2.imwrite(output_path + 'green_mask_filtered.png', green_mask_filtered_ol)\n",
    "    cv2.imwrite(output_path + 'blue_mask_filtered.png', blue_mask_filtered_ol)\n",
    "\n",
    "\n",
    "\n",
    "    red_float_mask = (red_binary * 255.0).astype('uint8')\n",
    "    green_float_mask = (green_binary * 255.0).astype('uint8')\n",
    "    blue_float_mask = (blue_binary * 255.0).astype('uint8')\n",
    "    cv2.imwrite(output_path + 'red_float_mask.png', red_float_mask)\n",
    "    cv2.imwrite(output_path + 'green_float_mask.png', green_float_mask)\n",
    "    cv2.imwrite(output_path + 'blue_float_mask.png', blue_float_mask)\n"
   ]
  },
  {
   "cell_type": "code",
   "execution_count": 8,
   "metadata": {},
   "outputs": [],
   "source": [
    "for th in thresholds:\n",
    "    run(th, output_path_root + str(th) + '/')"
   ]
  },
  {
   "cell_type": "code",
   "execution_count": null,
   "metadata": {},
   "outputs": [],
   "source": []
  },
  {
   "cell_type": "code",
   "execution_count": null,
   "metadata": {},
   "outputs": [],
   "source": []
  },
  {
   "cell_type": "code",
   "execution_count": null,
   "metadata": {},
   "outputs": [],
   "source": []
  },
  {
   "cell_type": "code",
   "execution_count": null,
   "metadata": {},
   "outputs": [],
   "source": []
  }
 ],
 "metadata": {
  "kernelspec": {
   "display_name": "base",
   "language": "python",
   "name": "python3"
  },
  "language_info": {
   "codemirror_mode": {
    "name": "ipython",
    "version": 3
   },
   "file_extension": ".py",
   "mimetype": "text/x-python",
   "name": "python",
   "nbconvert_exporter": "python",
   "pygments_lexer": "ipython3",
   "version": "3.9.18"
  },
  "orig_nbformat": 4
 },
 "nbformat": 4,
 "nbformat_minor": 2
}
