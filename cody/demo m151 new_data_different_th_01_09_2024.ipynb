{
 "cells": [
  {
   "cell_type": "code",
   "execution_count": 1,
   "metadata": {},
   "outputs": [],
   "source": [
    "import cv2\n",
    "import numpy as np\n",
    "import os\n",
    "import matplotlib.pyplot as plt\n",
    "import pandas as pd\n",
    "from white_demura import mean_pooling, run_dfs, run_dfs_green, reconstruct_mask, RGB_mask_no_roi, RGB_mask, sum_contour, read_and_extract_roi, apply_mask, get_signal_mapping, generate_mapping, extract_middle_roi\n"
   ]
  },
  {
   "cell_type": "code",
   "execution_count": 2,
   "metadata": {},
   "outputs": [],
   "source": [
    "from read_images import generate_RGB_dataframes"
   ]
  },
  {
   "cell_type": "code",
   "execution_count": null,
   "metadata": {},
   "outputs": [],
   "source": [
    "output_path = '/Users/codyyu/Desktop/monoCapture/5_0/output/'"
   ]
  },
  {
   "cell_type": "code",
   "execution_count": 35,
   "metadata": {},
   "outputs": [],
   "source": [
    "red_image_path = '/Users/codyyu/Desktop/monoCapture/5_0/rCapMap5.0.tif'\n",
    "green_image_path = '/Users/codyyu/Desktop/monoCapture/5_0/gCapMap5.0.tif'\n",
    "blue_image_path = '/Users/codyyu/Desktop/monoCapture/5_0/bCapMap5.0.tif'\n",
    "clear_image_path = '/Users/codyyu/Desktop/monoCapture/5_0/wCapMap5.0.tif'\n",
    "red_image_255 = cv2.imread(red_image_path, cv2.IMREAD_GRAYSCALE) \n",
    "green_image_255 = cv2.imread(green_image_path, cv2.IMREAD_GRAYSCALE) \n",
    "blue_image_255 = cv2.imread(blue_image_path, cv2.IMREAD_GRAYSCALE) \n",
    "clear_image_255 = cv2.imread(clear_image_path, cv2.IMREAD_GRAYSCALE) \n",
    "\n",
    "red_binary = np.where(red_image_255 > 25, 1, 0)\n",
    "green_binary = np.where(green_image_255 > 25, 1, 0)\n",
    "blue_binary = np.where(blue_image_255 > 25, 1, 0)\n",
    "\n"
   ]
  },
  {
   "cell_type": "code",
   "execution_count": 36,
   "metadata": {},
   "outputs": [],
   "source": [
    "rg_ol = red_binary * green_binary\n",
    "rb_ol = red_binary * blue_binary\n",
    "gb_ol = green_binary * blue_binary\n",
    "rgb_ol = red_binary * green_binary * blue_binary"
   ]
  },
  {
   "cell_type": "code",
   "execution_count": 37,
   "metadata": {},
   "outputs": [],
   "source": [
    "red_image_255 = red_image_255.astype('float64')\n",
    "green_image_255 = green_image_255.astype('float64')\n",
    "blue_image_255 = blue_image_255.astype('float64')"
   ]
  },
  {
   "cell_type": "code",
   "execution_count": 38,
   "metadata": {},
   "outputs": [],
   "source": [
    "red_binary = red_binary.astype('float64')\n",
    "green_binary = green_binary.astype('float64')\n",
    "blue_binary = blue_binary.astype('float64')"
   ]
  },
  {
   "cell_type": "code",
   "execution_count": 39,
   "metadata": {},
   "outputs": [
    {
     "data": {
      "text/plain": [
       "0.0"
      ]
     },
     "execution_count": 39,
     "metadata": {},
     "output_type": "execute_result"
    }
   ],
   "source": [
    "red_binary[0][1]"
   ]
  },
  {
   "cell_type": "code",
   "execution_count": 40,
   "metadata": {},
   "outputs": [],
   "source": [
    "for i in (range(len(red_binary))):\n",
    "    for j in (range(len(red_binary[0]))):\n",
    "        if rg_ol[i][j] == 1 or rb_ol[i][j] == 1:\n",
    "            sum = 0.0\n",
    "            sum = red_image_255[i][j] + green_image_255[i][j] + blue_image_255[i][j]\n",
    "            if sum != 0:\n",
    "                red_binary[i][j] = red_image_255[i][j] / sum\n",
    "            #print(red_image_255[i][j], sum, red_image_255[i][j] / sum)"
   ]
  },
  {
   "cell_type": "code",
   "execution_count": 41,
   "metadata": {},
   "outputs": [
    {
     "name": "stdout",
     "output_type": "stream",
     "text": [
      "0.0\n"
     ]
    }
   ],
   "source": [
    "print(green_binary[0][9])"
   ]
  },
  {
   "cell_type": "code",
   "execution_count": 42,
   "metadata": {},
   "outputs": [],
   "source": [
    "for i in (range(len(green_binary))):\n",
    "    for j in (range(len(green_binary[0]))):\n",
    "        if rg_ol[i][j] == 1 or gb_ol[i][j] == 1:\n",
    "            sum = 0.0\n",
    "            sum = red_image_255[i][j] + green_image_255[i][j] + blue_image_255[i][j]\n",
    "            if sum != 0:\n",
    "                green_binary[i][j] = green_image_255[i][j] / sum"
   ]
  },
  {
   "cell_type": "code",
   "execution_count": 43,
   "metadata": {},
   "outputs": [],
   "source": [
    "for i in (range(len(blue_binary))):\n",
    "    for j in (range(len(blue_binary[0]))):\n",
    "        if gb_ol[i][j] == 1 or rb_ol[i][j] == 1:\n",
    "            sum = 0.0\n",
    "            sum = red_image_255[i][j] + green_image_255[i][j] + blue_image_255[i][j]\n",
    "            if sum != 0:\n",
    "                blue_binary[i][j] = blue_image_255[i][j] / sum"
   ]
  },
  {
   "cell_type": "code",
   "execution_count": 44,
   "metadata": {},
   "outputs": [],
   "source": [
    "red_filtered = np.where(red_image_255 > 25, 1, 0) * red_image_255\n",
    "green_filtered = np.where(green_image_255 > 25, 1, 0) * green_image_255\n",
    "blue_filtered = np.where(blue_image_255 > 25, 1, 0) * blue_image_255\n",
    " "
   ]
  },
  {
   "cell_type": "code",
   "execution_count": 45,
   "metadata": {},
   "outputs": [
    {
     "data": {
      "text/plain": [
       "True"
      ]
     },
     "execution_count": 45,
     "metadata": {},
     "output_type": "execute_result"
    }
   ],
   "source": [
    "cv2.imwrite(output_path + 'red_filtered.png', red_filtered)\n",
    "cv2.imwrite(output_path + 'green_filtered.png', green_filtered)\n",
    "cv2.imwrite(output_path + 'blue_filtered.png', blue_filtered)"
   ]
  },
  {
   "cell_type": "code",
   "execution_count": 46,
   "metadata": {},
   "outputs": [],
   "source": [
    "red_mask_filtered_ol = (red_binary * clear_image_255.astype('float64')).astype('uint8')\n",
    "green_mask_filtered_ol = (green_binary * clear_image_255.astype('float64')).astype('uint8')\n",
    "blue_mask_filtered_ol = (blue_binary * clear_image_255.astype('float64')).astype('uint8')\n",
    "\n"
   ]
  },
  {
   "cell_type": "code",
   "execution_count": 47,
   "metadata": {},
   "outputs": [
    {
     "data": {
      "text/plain": [
       "True"
      ]
     },
     "execution_count": 47,
     "metadata": {},
     "output_type": "execute_result"
    }
   ],
   "source": [
    "cv2.imwrite(output_path + 'red_mask_filtered.png', red_mask_filtered_ol)\n",
    "cv2.imwrite(output_path + 'green_mask_filtered.png', green_mask_filtered_ol)\n",
    "cv2.imwrite(output_path + 'blue_mask_filtered.png', blue_mask_filtered_ol)"
   ]
  },
  {
   "cell_type": "code",
   "execution_count": 48,
   "metadata": {},
   "outputs": [
    {
     "data": {
      "text/plain": [
       "True"
      ]
     },
     "execution_count": 48,
     "metadata": {},
     "output_type": "execute_result"
    }
   ],
   "source": [
    "red_float_mask = (red_binary * 255.0).astype('uint8')\n",
    "green_float_mask = (green_binary * 255.0).astype('uint8')\n",
    "blue_float_mask = (blue_binary * 255.0).astype('uint8')\n",
    "cv2.imwrite(output_path + 'red_float_mask.png', red_float_mask)\n",
    "cv2.imwrite(output_path + 'green_float_mask.png', green_float_mask)\n",
    "cv2.imwrite(output_path + 'blue_float_mask.png', blue_float_mask)\n"
   ]
  },
  {
   "cell_type": "code",
   "execution_count": 17,
   "metadata": {},
   "outputs": [],
   "source": [
    "t = (red_binary * 255.0).astype('uint8')"
   ]
  },
  {
   "cell_type": "code",
   "execution_count": 18,
   "metadata": {},
   "outputs": [],
   "source": [
    "unique, counts = np.unique(t, return_counts=True)"
   ]
  },
  {
   "cell_type": "code",
   "execution_count": 19,
   "metadata": {},
   "outputs": [
    {
     "name": "stdout",
     "output_type": "stream",
     "text": [
      "[[        0 124287231]\n",
      " [       28         6]\n",
      " [       29        66]\n",
      " [       30       743]\n",
      " [       31      2632]\n",
      " [       32      8191]\n",
      " [       33     13055]\n",
      " [       34     22937]\n",
      " [       35     28452]\n",
      " [       36     36572]\n",
      " [       37     39794]\n",
      " [       38     43054]\n",
      " [       39     50921]\n",
      " [       40     53250]\n",
      " [       41     55233]\n",
      " [       42     61225]\n",
      " [       43     62973]\n",
      " [       44     64633]\n",
      " [       45     72821]\n",
      " [       46     73571]\n",
      " [       47     76070]\n",
      " [       48     82232]\n",
      " [       49     83218]\n",
      " [       50     73738]\n",
      " [       51    105130]\n",
      " [       52     98265]\n",
      " [       53    102475]\n",
      " [       54    102775]\n",
      " [       55    110392]\n",
      " [       56    111501]\n",
      " [       57    116921]\n",
      " [       58    122962]\n",
      " [       59    120572]\n",
      " [       60    136848]\n",
      " [       61    133062]\n",
      " [       62    132992]\n",
      " [       63    143400]\n",
      " [       64    145622]\n",
      " [       65    137619]\n",
      " [       66    153941]\n",
      " [       67    130621]\n",
      " [       68    154503]\n",
      " [       69    144909]\n",
      " [       70    150157]\n",
      " [       71    140305]\n",
      " [       72    150674]\n",
      " [       73    144250]\n",
      " [       74    137241]\n",
      " [       75    151085]\n",
      " [       76    146075]\n",
      " [       77    143139]\n",
      " [       78    152701]\n",
      " [       79    142202]\n",
      " [       80    147305]\n",
      " [       81    154880]\n",
      " [       82    146807]\n",
      " [       83    142675]\n",
      " [       84    104800]\n",
      " [       85    209511]\n",
      " [       86    143887]\n",
      " [       87    155387]\n",
      " [       88    158064]\n",
      " [       89    147435]\n",
      " [       90    166902]\n",
      " [       91    150537]\n",
      " [       92    152171]\n",
      " [       93    161162]\n",
      " [       94    152332]\n",
      " [       95    149135]\n",
      " [       96    158376]\n",
      " [       97    152499]\n",
      " [       98    148962]\n",
      " [       99    149425]\n",
      " [      100    153384]\n",
      " [      101    110317]\n",
      " [      102    180486]\n",
      " [      103    146506]\n",
      " [      104    135335]\n",
      " [      105    152807]\n",
      " [      106    140352]\n",
      " [      107    139342]\n",
      " [      108    144467]\n",
      " [      109    130715]\n",
      " [      110    137632]\n",
      " [      111    136903]\n",
      " [      112    132472]\n",
      " [      113    131738]\n",
      " [      114    132324]\n",
      " [      115    134019]\n",
      " [      116    128044]\n",
      " [      117    131843]\n",
      " [      118    119560]\n",
      " [      119    129003]\n",
      " [      120    136203]\n",
      " [      121    126603]\n",
      " [      122    125427]\n",
      " [      123    125994]\n",
      " [      124    126525]\n",
      " [      125    113469]\n",
      " [      126    133926]\n",
      " [      127    122565]\n",
      " [      128    130515]\n",
      " [      129    111443]\n",
      " [      130    126963]\n",
      " [      131    120742]\n",
      " [      132    121957]\n",
      " [      133    121667]\n",
      " [      134    113659]\n",
      " [      135    118699]\n",
      " [      136    128728]\n",
      " [      137    117250]\n",
      " [      138    120953]\n",
      " [      139    115794]\n",
      " [      140    119959]\n",
      " [      141    121367]\n",
      " [      142    116720]\n",
      " [      143    114860]\n",
      " [      144    115385]\n",
      " [      145    118031]\n",
      " [      146    115328]\n",
      " [      147    116972]\n",
      " [      148    114975]\n",
      " [      149    106773]\n",
      " [      150    119644]\n",
      " [      151    113328]\n",
      " [      152     92189]\n",
      " [      153    131800]\n",
      " [      154    108037]\n",
      " [      155    111861]\n",
      " [      156    109143]\n",
      " [      157    108978]\n",
      " [      158    106136]\n",
      " [      159    106547]\n",
      " [      160    107806]\n",
      " [      161    103411]\n",
      " [      162    104781]\n",
      " [      163    102120]\n",
      " [      164     98472]\n",
      " [      165    105702]\n",
      " [      166     99680]\n",
      " [      167    100250]\n",
      " [      168     98833]\n",
      " [      169     65945]\n",
      " [      170    120329]\n",
      " [      171     94630]\n",
      " [      172     93629]\n",
      " [      173     86851]\n",
      " [      174     86092]\n",
      " [      175     86235]\n",
      " [      176     81141]\n",
      " [      177     80688]\n",
      " [      178     75223]\n",
      " [      179     71004]\n",
      " [      180     73292]\n",
      " [      181     69079]\n",
      " [      182     62163]\n",
      " [      183     61493]\n",
      " [      184     55450]\n",
      " [      185     52395]\n",
      " [      186     46350]\n",
      " [      187     47407]\n",
      " [      188     37999]\n",
      " [      189     34933]\n",
      " [      190     33149]\n",
      " [      191     23006]\n",
      " [      192     24145]\n",
      " [      193     18405]\n",
      " [      194     13763]\n",
      " [      195     11758]\n",
      " [      196      8836]\n",
      " [      197      6200]\n",
      " [      198      4221]\n",
      " [      199      2445]\n",
      " [      200      1437]\n",
      " [      201       764]\n",
      " [      202       251]\n",
      " [      203        93]\n",
      " [      204        37]\n",
      " [      205         7]\n",
      " [      206         2]\n",
      " [      207         2]\n",
      " [      208         1]\n",
      " [      212         1]\n",
      " [      214         1]\n",
      " [      221         1]\n",
      " [      222         1]\n",
      " [      223         1]\n",
      " [      255   8258677]]\n"
     ]
    }
   ],
   "source": [
    "print(np.asarray((unique, counts)).T)"
   ]
  }
 ],
 "metadata": {
  "kernelspec": {
   "display_name": "base",
   "language": "python",
   "name": "python3"
  },
  "language_info": {
   "codemirror_mode": {
    "name": "ipython",
    "version": 3
   },
   "file_extension": ".py",
   "mimetype": "text/x-python",
   "name": "python",
   "nbconvert_exporter": "python",
   "pygments_lexer": "ipython3",
   "version": "3.9.18"
  },
  "orig_nbformat": 4
 },
 "nbformat": 4,
 "nbformat_minor": 2
}
